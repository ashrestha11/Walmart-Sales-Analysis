{
 "cells": [
  {
   "cell_type": "markdown",
   "metadata": {},
   "source": [
    "- There are three raw data sources that we have to transform and merge in one dataframe to perform analysis \n",
    "- Since the data is based on three states-- CA, TX and WI-- we can create dataset for each of the states to lower the memory allocation and total size of the dataset. Without splitting the dataset, the total space is 4+ and contains more than hundreds of millions of rows \n",
    "    - splitting the dataset into the three states will provide us better flexiability in terms of memory allocation and better performance\n",
    "- We can also create a sample dataset for each products in different states by measuring the confidence interval and the errors of sample values not being the true values \n",
    "\n"
   ]
  },
  {
   "cell_type": "code",
   "execution_count": 1,
   "metadata": {},
   "outputs": [],
   "source": [
    "import pandas as pd \n",
    "import numpy as np \n",
    "import gc"
   ]
  },
  {
   "cell_type": "code",
   "execution_count": 5,
   "metadata": {},
   "outputs": [],
   "source": [
    "def transform_df(): \n",
    "    calender_dtype={\"event_name_1\": \"category\", \"event_name_2\": \"category\", \"event_type_1\": \"category\", \n",
    "         \"event_type_2\": \"category\", \"weekday\": \"category\", 'wm_yr_wk': 'int16', \"wday\": \"int16\",\n",
    "        \"month\": \"int16\", \"year\": \"int16\", \"snap_CA\": \"uint8\", 'snap_TX': 'uint8', 'snap_WI': 'uint8' }\n",
    "    calender = pd.read_csv('calendar.csv', dtype= calender_dtype)\n",
    "    calender.date = pd.to_datetime(calender.date)\n",
    "         \n",
    "    price_dtype = {\"store_id\": \"category\", \"item_id\": \"category\", \"wm_yr_wk\": \"int16\",\"sell_price\":\"float32\" }\n",
    "    #prices of products \n",
    "    product_prices = pd.read_csv('sell_prices.csv', dtype= price_dtype)  \n",
    "  \n",
    "    days = 1913\n",
    "    colstype = ['id', \"store_id\", 'state_id', 'item_id', 'cat_id', 'dept_id']\n",
    "    d_numtype = [f\"d_{day}\" for day in range(1,days+1)]\n",
    "    \n",
    "    dtype = {num: 'int8' for num in d_numtype}\n",
    "    dtype.update({col: \"category\" for col in colstype}) \n",
    "    \n",
    "    daily_temp = pd.read_csv('sales_train_validation.csv', usecols = d_numtype + colstype, dtype = dtype)\n",
    "    \n",
    "    daily_sales = pd.melt(daily_temp,id_vars = ['id', 'store_id', 'item_id','state_id','cat_id', 'dept_id'], \n",
    "                      var_name = \"d\", value_name = 'Sales')\n",
    "    \n",
    "    gc.collect()\n",
    "    \n",
    "    daily_sales = daily_sales.merge(calender, on = 'd', copy = 'false')\n",
    "    dataset = daily_sales.merge(product_prices, on = ['store_id', 'item_id', 'wm_yr_wk'], copy = False)\n",
    "    \n",
    "    dataset = dataset.drop(columns = ['id', 'd', 'cat_id', 'month', 'year', 'weekday', 'wday']) #since they are almost duplicates, we can drop the columns. \n",
    "    gc.collect() #free memory \n",
    "\n",
    "    return dataset\n"
   ]
  },
  {
   "cell_type": "code",
   "execution_count": 6,
   "metadata": {},
   "outputs": [],
   "source": [
    "dataset = transform_df()"
   ]
  },
  {
   "cell_type": "code",
   "execution_count": 7,
   "metadata": {},
   "outputs": [
    {
     "data": {
      "text/plain": [
       "20"
      ]
     },
     "execution_count": 7,
     "metadata": {},
     "output_type": "execute_result"
    }
   ],
   "source": [
    "CA_df = dataset[dataset['state_id'] == 'CA']\n",
    "TX_df = dataset[dataset['state_id'] == 'TX']\n",
    "WI_df = dataset[dataset['state_id'] == 'WI']\n",
    "\n",
    "gc.collect()\n"
   ]
  },
  {
   "cell_type": "code",
   "execution_count": 10,
   "metadata": {},
   "outputs": [],
   "source": [
    "#CA_df.to_pickle(\"CA_df.pkl\")\n",
    "#WI_df.to_pickle('WI_df.pkl')\n",
    "#TX_df.to_pickle('TX_df.pkl')"
   ]
  },
  {
   "cell_type": "code",
   "execution_count": null,
   "metadata": {},
   "outputs": [],
   "source": []
  },
  {
   "cell_type": "code",
   "execution_count": null,
   "metadata": {},
   "outputs": [],
   "source": []
  },
  {
   "cell_type": "code",
   "execution_count": null,
   "metadata": {},
   "outputs": [],
   "source": []
  },
  {
   "cell_type": "code",
   "execution_count": null,
   "metadata": {},
   "outputs": [],
   "source": []
  }
 ],
 "metadata": {
  "kernelspec": {
   "display_name": "Python 3.7.4 64-bit ('base': conda)",
   "language": "python",
   "name": "python37464bitbaseconda51e04313681249f2bc1802aeb9ff976c"
  },
  "language_info": {
   "codemirror_mode": {
    "name": "ipython",
    "version": 3
   },
   "file_extension": ".py",
   "mimetype": "text/x-python",
   "name": "python",
   "nbconvert_exporter": "python",
   "pygments_lexer": "ipython3",
   "version": "3.7.4"
  }
 },
 "nbformat": 4,
 "nbformat_minor": 4
}
